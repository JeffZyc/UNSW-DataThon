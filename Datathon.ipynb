{
 "cells": [
  {
   "cell_type": "code",
   "execution_count": 1,
   "metadata": {},
   "outputs": [],
   "source": [
    "import pandas as pd\n",
    "import numpy as np\n",
    "import matplotlib.pyplot as plt\n",
    "import lightgbm as lgb\n",
    "from sklearn.model_selection import TimeSeriesSplit, KFold\n",
    "from sklearn.metrics import mean_squared_error\n",
    "from sklearn.preprocessing import OneHotEncoder\n",
    "from sklearn.decomposition import PCA\n",
    "pd.set_option(\"display.max_rows\",None,'display.max_colwidth',10000,'display.max_columns',10000)\n",
    "from collections import Counter"
   ]
  },
  {
   "cell_type": "code",
   "execution_count": 2,
   "metadata": {},
   "outputs": [],
   "source": [
    "booksInformation = pd.read_csv('Books Information.csv')\n",
    "genresMapping = pd.read_csv('Genres Mapping.csv')\n",
    "userData = pd.read_csv('User Data.csv')\n",
    "wordsInbooksData = pd.read_csv('Words in Books Data.csv')\n",
    "wordsMapping = pd.read_csv('Words Mapping.csv')\n",
    "subSamp = pd.read_csv('Example Submission.csv')"
   ]
  },
  {
   "cell_type": "code",
   "execution_count": 6,
   "metadata": {},
   "outputs": [],
   "source": [
    "# Index(['User ID', 'User Difficulty Choice', 'User Read Books (2017)',\n",
    "#        'User Read Books (2018)', 'Average Rating (2017)'],\n",
    "#       dtype='object')\n",
    "\n",
    "# Index(['Book ID', 'Book Genre', 'Barcode', 'Difficulty (Reader suggested)',\n",
    "#        'Number Of Words', 'Price (2017)', 'Price (2018)', 'Most Sold At',\n",
    "#        'Number Sold'],\n",
    "#       dtype='object')"
   ]
  },
  {
   "cell_type": "code",
   "execution_count": 3,
   "metadata": {},
   "outputs": [],
   "source": [
    "def nb_of_books(a):\n",
    "    temp = list(map(int,a.split(',')))\n",
    "    return len(temp)\n",
    "'''\n",
    "\n",
    " b = (An + rating)/m+n\n",
    "'''\n",
    "def aver_of_price(a):\n",
    "    temp = list(map(int,a.split(',')))\n",
    "    total = 0\n",
    "    for i in temp:\n",
    "        total += booksInformation.loc[booksInformation['Book ID'] == i,'Price (2017)'].values[0]\n",
    "    return total/len(temp)\n",
    "\n",
    "loca = list(booksInformation['Most Sold At'].unique())\n",
    "def perchase_loc(a): #购买地点?? \n",
    "    temp = list(map(int,a.split(',')))\n",
    "    lt = []\n",
    "    for i in temp:\n",
    "        lt.append(booksInformation.loc[booksInformation['Book ID'] == i,'Most Sold At'].values[0])\n",
    "    temp_1 = 0 \n",
    "    for k in lt:       \n",
    "        if lt.count(k) > temp_1:           \n",
    "            max_str = k            \n",
    "            temp_1 = lt.count(k) \n",
    "    return loca.index(max_str)\n",
    "\n",
    "def difficult_sum(a): #难度\n",
    "    temp = list(map(int,a.split(',')))\n",
    "    total = 0\n",
    "    for i in temp:\n",
    "        total += booksInformation.loc[booksInformation['Book ID'] == i,'Difficulty (Reader suggested)'].values[0]\n",
    "    return total/len(temp)\n",
    "\n",
    "def num_sold(a):\n",
    "    temp = list(map(int,a.split(',')))\n",
    "    total = 0\n",
    "    for i in temp:\n",
    "        total += booksInformation.loc[booksInformation['Book ID'] == i,'Number Sold'].values[0]\n",
    "    return total\n",
    "\n",
    "def total_words(a):\n",
    "    temp = list(map(int,a.split(',')))\n",
    "    total = 0\n",
    "    for i in temp:\n",
    "        total += booksInformation.loc[booksInformation['Book ID'] == i,'Number Of Words'].values[0]\n",
    "    return total/len(temp)\n",
    "\n",
    "def max_genre(a):\n",
    "    temp = list(map(int,a.split(',')))\n",
    "    lt = []\n",
    "    for i in temp:\n",
    "        lt.append(booksInformation.loc[booksInformation['Book ID'] == i,'Book Genre'].values[0])\n",
    "    temp_1 = 0 \n",
    "    for k in lt:       \n",
    "        if lt.count(k) > temp_1:           \n",
    "            max_str = k            \n",
    "            temp_1 = lt.count(k) \n",
    "    return max_str\n",
    "def genre_pick(a):\n",
    "    temp = list(map(int,a.split(',')))\n",
    "    lt = []\n",
    "    for i in temp:\n",
    "        lt.append(booksInformation.loc[booksInformation['Book ID'] == i,'Difficulty (Reader suggested)'].values[0])\n",
    "    return lt"
   ]
  },
  {
   "cell_type": "code",
   "execution_count": 4,
   "metadata": {},
   "outputs": [],
   "source": [
    "userData['User Difficulty Choice'] = userData['User Difficulty Choice'].replace('Not specified',0)"
   ]
  },
  {
   "cell_type": "code",
   "execution_count": 5,
   "metadata": {},
   "outputs": [],
   "source": [
    "test = pd.DataFrame() \n",
    "test['User ID']= userData['User ID']\n",
    "test['nb_of_books'] = userData['User Read Books (2018)'].apply(nb_of_books)\n",
    "test['average_price'] = userData['User Read Books (2018)'].apply(aver_of_price)\n",
    "# test['location'] = userData['User Read Books (2018)'].apply(perchase_loc)\n",
    "test['diff_sum'] = userData['User Read Books (2018)'].apply(difficult_sum)\n",
    "test['num_of_sold'] = userData['User Read Books (2018)'].apply(num_sold)\n",
    "test['total_words'] = userData['User Read Books (2018)'].apply(total_words)\n",
    "test['User Difficulty Choice'] = userData['User Difficulty Choice']\n",
    "test['max_genre'] = userData['User Read Books (2018)'].apply(max_genre)"
   ]
  },
  {
   "cell_type": "code",
   "execution_count": 6,
   "metadata": {},
   "outputs": [
    {
     "data": {
      "text/html": [
       "<div>\n",
       "<style scoped>\n",
       "    .dataframe tbody tr th:only-of-type {\n",
       "        vertical-align: middle;\n",
       "    }\n",
       "\n",
       "    .dataframe tbody tr th {\n",
       "        vertical-align: top;\n",
       "    }\n",
       "\n",
       "    .dataframe thead th {\n",
       "        text-align: right;\n",
       "    }\n",
       "</style>\n",
       "<table border=\"1\" class=\"dataframe\">\n",
       "  <thead>\n",
       "    <tr style=\"text-align: right;\">\n",
       "      <th></th>\n",
       "      <th>User ID</th>\n",
       "      <th>User Difficulty Choice</th>\n",
       "      <th>User Read Books (2017)</th>\n",
       "      <th>User Read Books (2018)</th>\n",
       "      <th>Average Rating (2017)</th>\n",
       "      <th>nb_of_books</th>\n",
       "      <th>average_price</th>\n",
       "      <th>diff_sum</th>\n",
       "      <th>num_of_sold</th>\n",
       "      <th>total_words</th>\n",
       "      <th>max_genre</th>\n",
       "    </tr>\n",
       "  </thead>\n",
       "  <tbody>\n",
       "    <tr>\n",
       "      <th>0</th>\n",
       "      <td>ID790145788</td>\n",
       "      <td>1</td>\n",
       "      <td>6254</td>\n",
       "      <td>7180</td>\n",
       "      <td>3.115447</td>\n",
       "      <td>1</td>\n",
       "      <td>34.506476</td>\n",
       "      <td>2.000000</td>\n",
       "      <td>3262</td>\n",
       "      <td>4522.000000</td>\n",
       "      <td>17</td>\n",
       "    </tr>\n",
       "    <tr>\n",
       "      <th>1</th>\n",
       "      <td>ID646234447</td>\n",
       "      <td>0</td>\n",
       "      <td>5854, 5676, 7265, 6051</td>\n",
       "      <td>5729, 5279, 6242, 5519, 5251</td>\n",
       "      <td>3.157876</td>\n",
       "      <td>4</td>\n",
       "      <td>25.331126</td>\n",
       "      <td>4.750000</td>\n",
       "      <td>8838</td>\n",
       "      <td>2943.750000</td>\n",
       "      <td>0</td>\n",
       "    </tr>\n",
       "    <tr>\n",
       "      <th>2</th>\n",
       "      <td>ID86918707</td>\n",
       "      <td>5</td>\n",
       "      <td>5815</td>\n",
       "      <td>6372, 6697</td>\n",
       "      <td>1.512284</td>\n",
       "      <td>1</td>\n",
       "      <td>25.963430</td>\n",
       "      <td>4.000000</td>\n",
       "      <td>3037</td>\n",
       "      <td>450.000000</td>\n",
       "      <td>4</td>\n",
       "    </tr>\n",
       "    <tr>\n",
       "      <th>3</th>\n",
       "      <td>ID404262345</td>\n",
       "      <td>2</td>\n",
       "      <td>6969, 7002, 5761</td>\n",
       "      <td>5023, 6412, 6124</td>\n",
       "      <td>3.641681</td>\n",
       "      <td>3</td>\n",
       "      <td>15.239712</td>\n",
       "      <td>3.000000</td>\n",
       "      <td>3666</td>\n",
       "      <td>3065.000000</td>\n",
       "      <td>19</td>\n",
       "    </tr>\n",
       "    <tr>\n",
       "      <th>4</th>\n",
       "      <td>ID267634255</td>\n",
       "      <td>4</td>\n",
       "      <td>7908, 7585, 7655, 5013, 5352, 7753, 5793</td>\n",
       "      <td>7915, 7884, 7404, 6022, 6589, 6543, 5450, 6848</td>\n",
       "      <td>2.506743</td>\n",
       "      <td>7</td>\n",
       "      <td>24.531754</td>\n",
       "      <td>3.714286</td>\n",
       "      <td>13458</td>\n",
       "      <td>2287.285714</td>\n",
       "      <td>14</td>\n",
       "    </tr>\n",
       "  </tbody>\n",
       "</table>\n",
       "</div>"
      ],
      "text/plain": [
       "       User ID User Difficulty Choice  \\\n",
       "0  ID790145788                      1   \n",
       "1  ID646234447                      0   \n",
       "2   ID86918707                      5   \n",
       "3  ID404262345                      2   \n",
       "4  ID267634255                      4   \n",
       "\n",
       "                     User Read Books (2017)  \\\n",
       "0                                      6254   \n",
       "1                    5854, 5676, 7265, 6051   \n",
       "2                                      5815   \n",
       "3                          6969, 7002, 5761   \n",
       "4  7908, 7585, 7655, 5013, 5352, 7753, 5793   \n",
       "\n",
       "                           User Read Books (2018)  Average Rating (2017)  \\\n",
       "0                                            7180               3.115447   \n",
       "1                    5729, 5279, 6242, 5519, 5251               3.157876   \n",
       "2                                      6372, 6697               1.512284   \n",
       "3                                5023, 6412, 6124               3.641681   \n",
       "4  7915, 7884, 7404, 6022, 6589, 6543, 5450, 6848               2.506743   \n",
       "\n",
       "   nb_of_books  average_price  diff_sum  num_of_sold  total_words  max_genre  \n",
       "0            1      34.506476  2.000000         3262  4522.000000         17  \n",
       "1            4      25.331126  4.750000         8838  2943.750000          0  \n",
       "2            1      25.963430  4.000000         3037   450.000000          4  \n",
       "3            3      15.239712  3.000000         3666  3065.000000         19  \n",
       "4            7      24.531754  3.714286        13458  2287.285714         14  "
      ]
     },
     "execution_count": 6,
     "metadata": {},
     "output_type": "execute_result"
    }
   ],
   "source": [
    "userData['nb_of_books'] = userData['User Read Books (2017)'].apply(nb_of_books)\n",
    "userData['average_price'] = userData['User Read Books (2017)'].apply(aver_of_price)\n",
    "# userData['location'] = userData['User Read Books (2017)'].apply(perchase_loc)\n",
    "userData['diff_sum'] = userData['User Read Books (2017)'].apply(difficult_sum)\n",
    "userData['num_of_sold'] = userData['User Read Books (2017)'].apply(num_sold)\n",
    "userData['total_words'] = userData['User Read Books (2017)'].apply(total_words)\n",
    "userData['max_genre'] = userData['User Read Books (2017)'].apply(max_genre)\n",
    "userData.head()"
   ]
  },
  {
   "cell_type": "code",
   "execution_count": 12,
   "metadata": {},
   "outputs": [],
   "source": [
    "# for i in range(userData.shape[0]):\n",
    "#     print(i)\n",
    "#     a = userData.loc[i,'User Read Books (2017)']\n",
    "#     temp = list(map(int,a.split(',')))\n",
    "#     for j in temp:\n",
    "#         userData.loc[i,str(booksInformation.loc[booksInformation['Book ID'] == j,'Book Genre'].values[0])] += 1\n",
    "    "
   ]
  },
  {
   "cell_type": "code",
   "execution_count": 8,
   "metadata": {},
   "outputs": [],
   "source": [
    "no_use = ['User Read Books (2017)','User Read Books (2018)']"
   ]
  },
  {
   "cell_type": "code",
   "execution_count": 9,
   "metadata": {},
   "outputs": [],
   "source": [
    "train = userData.drop(no_use,axis = 1)"
   ]
  },
  {
   "cell_type": "code",
   "execution_count": 10,
   "metadata": {},
   "outputs": [],
   "source": [
    "X = train.drop(['User ID','Average Rating (2017)'], axis=1)\n",
    "y = train['Average Rating (2017)']\n",
    "X_test = test.drop(['User ID'],axis = 1)\n",
    "tscv = TimeSeriesSplit(n_splits=10)"
   ]
  },
  {
   "cell_type": "code",
   "execution_count": 11,
   "metadata": {},
   "outputs": [],
   "source": [
    "X['User Difficulty Choice'] = X['User Difficulty Choice'].astype(float)\n",
    "X_test['User Difficulty Choice'] = X_test['User Difficulty Choice'].astype(float)"
   ]
  },
  {
   "cell_type": "code",
   "execution_count": 12,
   "metadata": {},
   "outputs": [],
   "source": [
    "X = X.drop(['nb_of_books'], axis=1)\n",
    "X_test = X_test.drop(['nb_of_books'], axis=1)"
   ]
  },
  {
   "cell_type": "code",
   "execution_count": 13,
   "metadata": {},
   "outputs": [],
   "source": [
    "params = {\"objective\" : \"regression\", \"metric\" : \"rmse\", \"max_depth\": 8, \"min_child_samples\": 13, \"reg_alpha\": 0.2, \"reg_lambda\": 0.2,\n",
    "        \"num_leaves\" : 56, \"learning_rate\" : 0.05}\n",
    "n_fold = 10\n",
    "folds = KFold(n_splits=n_fold, shuffle=False, random_state=1234)\n",
    "################################################\n",
    "model = lgb.LGBMRegressor(**params, n_estimators = 126)"
   ]
  },
  {
   "cell_type": "code",
   "execution_count": 14,
   "metadata": {},
   "outputs": [
    {
     "name": "stdout",
     "output_type": "stream",
     "text": [
      "Fold: 0\n",
      "Training until validation scores don't improve for 100 rounds.\n"
     ]
    },
    {
     "name": "stderr",
     "output_type": "stream",
     "text": [
      "C:\\Users\\Yichen\\Anaconda3\\lib\\site-packages\\lightgbm\\basic.py:1161: UserWarning: categorical_feature in Dataset is overridden. New categorical_feature is ['User Difficulty Choice', 'max_genre']\n",
      "  warnings.warn('categorical_feature in Dataset is overridden. New categorical_feature is {}'.format(sorted(list(categorical_feature))))\n"
     ]
    },
    {
     "name": "stdout",
     "output_type": "stream",
     "text": [
      "Did not meet early stopping. Best iteration is:\n",
      "[126]\ttraining's rmse: 1.49715\tvalid_1's rmse: 1.73855\n",
      "Fold: 1\n",
      "Training until validation scores don't improve for 100 rounds.\n"
     ]
    },
    {
     "name": "stderr",
     "output_type": "stream",
     "text": [
      "C:\\Users\\Yichen\\Anaconda3\\lib\\site-packages\\lightgbm\\basic.py:1161: UserWarning: categorical_feature in Dataset is overridden. New categorical_feature is ['User Difficulty Choice', 'max_genre']\n",
      "  warnings.warn('categorical_feature in Dataset is overridden. New categorical_feature is {}'.format(sorted(list(categorical_feature))))\n"
     ]
    },
    {
     "name": "stdout",
     "output_type": "stream",
     "text": [
      "Did not meet early stopping. Best iteration is:\n",
      "[126]\ttraining's rmse: 1.48141\tvalid_1's rmse: 1.84048\n",
      "Fold: 2\n",
      "Training until validation scores don't improve for 100 rounds.\n"
     ]
    },
    {
     "name": "stderr",
     "output_type": "stream",
     "text": [
      "C:\\Users\\Yichen\\Anaconda3\\lib\\site-packages\\lightgbm\\basic.py:1161: UserWarning: categorical_feature in Dataset is overridden. New categorical_feature is ['User Difficulty Choice', 'max_genre']\n",
      "  warnings.warn('categorical_feature in Dataset is overridden. New categorical_feature is {}'.format(sorted(list(categorical_feature))))\n"
     ]
    },
    {
     "name": "stdout",
     "output_type": "stream",
     "text": [
      "Did not meet early stopping. Best iteration is:\n",
      "[126]\ttraining's rmse: 1.49145\tvalid_1's rmse: 1.73789\n",
      "Fold: 3\n",
      "Training until validation scores don't improve for 100 rounds.\n"
     ]
    },
    {
     "name": "stderr",
     "output_type": "stream",
     "text": [
      "C:\\Users\\Yichen\\Anaconda3\\lib\\site-packages\\lightgbm\\basic.py:1161: UserWarning: categorical_feature in Dataset is overridden. New categorical_feature is ['User Difficulty Choice', 'max_genre']\n",
      "  warnings.warn('categorical_feature in Dataset is overridden. New categorical_feature is {}'.format(sorted(list(categorical_feature))))\n"
     ]
    },
    {
     "name": "stdout",
     "output_type": "stream",
     "text": [
      "Did not meet early stopping. Best iteration is:\n",
      "[126]\ttraining's rmse: 1.50179\tvalid_1's rmse: 1.75316\n",
      "Fold: 4\n",
      "Training until validation scores don't improve for 100 rounds.\n"
     ]
    },
    {
     "name": "stderr",
     "output_type": "stream",
     "text": [
      "C:\\Users\\Yichen\\Anaconda3\\lib\\site-packages\\lightgbm\\basic.py:1161: UserWarning: categorical_feature in Dataset is overridden. New categorical_feature is ['User Difficulty Choice', 'max_genre']\n",
      "  warnings.warn('categorical_feature in Dataset is overridden. New categorical_feature is {}'.format(sorted(list(categorical_feature))))\n"
     ]
    },
    {
     "name": "stdout",
     "output_type": "stream",
     "text": [
      "Did not meet early stopping. Best iteration is:\n",
      "[126]\ttraining's rmse: 1.47344\tvalid_1's rmse: 1.77472\n",
      "Fold: 5\n",
      "Training until validation scores don't improve for 100 rounds.\n"
     ]
    },
    {
     "name": "stderr",
     "output_type": "stream",
     "text": [
      "C:\\Users\\Yichen\\Anaconda3\\lib\\site-packages\\lightgbm\\basic.py:1161: UserWarning: categorical_feature in Dataset is overridden. New categorical_feature is ['User Difficulty Choice', 'max_genre']\n",
      "  warnings.warn('categorical_feature in Dataset is overridden. New categorical_feature is {}'.format(sorted(list(categorical_feature))))\n"
     ]
    },
    {
     "name": "stdout",
     "output_type": "stream",
     "text": [
      "Did not meet early stopping. Best iteration is:\n",
      "[126]\ttraining's rmse: 1.48706\tvalid_1's rmse: 1.75979\n",
      "Fold: 6\n",
      "Training until validation scores don't improve for 100 rounds.\n"
     ]
    },
    {
     "name": "stderr",
     "output_type": "stream",
     "text": [
      "C:\\Users\\Yichen\\Anaconda3\\lib\\site-packages\\lightgbm\\basic.py:1161: UserWarning: categorical_feature in Dataset is overridden. New categorical_feature is ['User Difficulty Choice', 'max_genre']\n",
      "  warnings.warn('categorical_feature in Dataset is overridden. New categorical_feature is {}'.format(sorted(list(categorical_feature))))\n"
     ]
    },
    {
     "name": "stdout",
     "output_type": "stream",
     "text": [
      "Did not meet early stopping. Best iteration is:\n",
      "[126]\ttraining's rmse: 1.48039\tvalid_1's rmse: 1.83217\n",
      "Fold: 7\n",
      "Training until validation scores don't improve for 100 rounds.\n"
     ]
    },
    {
     "name": "stderr",
     "output_type": "stream",
     "text": [
      "C:\\Users\\Yichen\\Anaconda3\\lib\\site-packages\\lightgbm\\basic.py:1161: UserWarning: categorical_feature in Dataset is overridden. New categorical_feature is ['User Difficulty Choice', 'max_genre']\n",
      "  warnings.warn('categorical_feature in Dataset is overridden. New categorical_feature is {}'.format(sorted(list(categorical_feature))))\n"
     ]
    },
    {
     "name": "stdout",
     "output_type": "stream",
     "text": [
      "Did not meet early stopping. Best iteration is:\n",
      "[126]\ttraining's rmse: 1.491\tvalid_1's rmse: 1.73534\n",
      "Fold: 8\n",
      "Training until validation scores don't improve for 100 rounds.\n"
     ]
    },
    {
     "name": "stderr",
     "output_type": "stream",
     "text": [
      "C:\\Users\\Yichen\\Anaconda3\\lib\\site-packages\\lightgbm\\basic.py:1161: UserWarning: categorical_feature in Dataset is overridden. New categorical_feature is ['User Difficulty Choice', 'max_genre']\n",
      "  warnings.warn('categorical_feature in Dataset is overridden. New categorical_feature is {}'.format(sorted(list(categorical_feature))))\n"
     ]
    },
    {
     "name": "stdout",
     "output_type": "stream",
     "text": [
      "Did not meet early stopping. Best iteration is:\n",
      "[126]\ttraining's rmse: 1.48769\tvalid_1's rmse: 1.77322\n",
      "Fold: 9\n",
      "Training until validation scores don't improve for 100 rounds.\n"
     ]
    },
    {
     "name": "stderr",
     "output_type": "stream",
     "text": [
      "C:\\Users\\Yichen\\Anaconda3\\lib\\site-packages\\lightgbm\\basic.py:1161: UserWarning: categorical_feature in Dataset is overridden. New categorical_feature is ['User Difficulty Choice', 'max_genre']\n",
      "  warnings.warn('categorical_feature in Dataset is overridden. New categorical_feature is {}'.format(sorted(list(categorical_feature))))\n"
     ]
    },
    {
     "name": "stdout",
     "output_type": "stream",
     "text": [
      "Did not meet early stopping. Best iteration is:\n",
      "[126]\ttraining's rmse: 1.49341\tvalid_1's rmse: 1.74599\n"
     ]
    }
   ],
   "source": [
    "prediction = np.zeros(test.shape[0])\n",
    "for fold_n, (train_index, test_index) in enumerate(folds.split(X)):\n",
    "    print('Fold:', fold_n)\n",
    "    X_train, X_valid = X.iloc[train_index], X.iloc[test_index]\n",
    "    y_train, y_valid = y.iloc[train_index], y.iloc[test_index]\n",
    "    \n",
    "#####################################\n",
    "    model.fit(X_train, y_train,\n",
    "            eval_set=[(X_train, y_train), (X_valid, y_valid)],categorical_feature= ['max_genre','User Difficulty Choice'],eval_metric='rmse',\n",
    "            verbose=200, early_stopping_rounds=100)    \n",
    "    y_pred = model.predict(X_test, num_iteration=model.best_iteration_,categorical_feature= ['max_genre','User Difficulty Choice'])\n",
    "    prediction += y_pred\n",
    "#########################################\n",
    "prediction /= n_fold"
   ]
  },
  {
   "cell_type": "code",
   "execution_count": 15,
   "metadata": {},
   "outputs": [
    {
     "data": {
      "text/plain": [
       "array([4.35115872, 3.6526859 , 3.45299567, ..., 3.48325111, 3.64450079,\n",
       "       3.97709821])"
      ]
     },
     "execution_count": 15,
     "metadata": {},
     "output_type": "execute_result"
    }
   ],
   "source": [
    "prediction"
   ]
  },
  {
   "cell_type": "code",
   "execution_count": 16,
   "metadata": {},
   "outputs": [],
   "source": [
    "new_sub = pd.DataFrame()\n",
    "new_sub['prediction'] = prediction\n",
    "new_sub['total_nb_book_2018'] = userData['User Read Books (2018)'].apply(nb_of_books)\n",
    "new_sub['total_nb_book_2017'] = userData['User Read Books (2017)'].apply(nb_of_books)\n",
    "new_sub['rating_2017'] = userData['Average Rating (2017)']\n",
    "new_sub['fin_pre'] = (1.5*new_sub['total_nb_book_2017']*new_sub['rating_2017']+\n",
    "                      0.5*new_sub['total_nb_book_2018']*new_sub['prediction'])/(new_sub['total_nb_book_2017']+new_sub['total_nb_book_2018'])"
   ]
  },
  {
   "cell_type": "code",
   "execution_count": 17,
   "metadata": {},
   "outputs": [
    {
     "data": {
      "image/png": "[encoded data removed]",
      "text/plain": [
       "<Figure size 432x288 with 1 Axes>"
      ]
     },
     "metadata": {
      "needs_background": "light"
     },
     "output_type": "display_data"
    }
   ],
   "source": [
    "lgb.plot_importance(model, max_num_features=30);"
   ]
  },
  {
   "cell_type": "markdown",
   "metadata": {},
   "source": [
    "adjust parameters"
   ]
  },
  {
   "cell_type": "code",
   "execution_count": null,
   "metadata": {},
   "outputs": [],
   "source": [
    "data_train = lgb.Dataset(X, y, silent=True)\n",
    "cv_results = lgb.cv(params, data_train, num_boost_round=1000, nfold=10, stratified=False, shuffle=True, metrics='rmse',     \n",
    "                    early_stopping_rounds=50, verbose_eval=50, show_stdv=True, seed=0) \n",
    "print('best n_estimators:', len(cv_results['rmse-mean'])) \n",
    "print('best cv score:', cv_results['rmse-mean'][-1])"
   ]
  },
  {
   "cell_type": "code",
   "execution_count": 46,
   "metadata": {},
   "outputs": [],
   "source": [
    "from sklearn.model_selection import GridSearchCV\n",
    "model_lgb = lgb.LGBMRegressor(objective='regression',num_leaves=56, learning_rate=0.05, n_estimators=126, \n",
    "                              max_depth=8,metric='rmse', bagging_fraction = 0.8,feature_fraction = 0.8) \n",
    "params_test1={'max_depth': range(6,10,2), 'num_leaves':range(50,70,2) } \n",
    "gsearch1 = GridSearchCV(estimator=model_lgb, param_grid=params_test1, scoring='neg_mean_squared_error', cv=5, verbose=1, n_jobs=4)"
   ]
  },
  {
   "cell_type": "code",
   "execution_count": null,
   "metadata": {},
   "outputs": [],
   "source": [
    "gsearch1.fit(X,y) \n",
    "gsearch1.grid_scores_, gsearch1.best_params_, gsearch1.best_score_"
   ]
  },
  {
   "cell_type": "code",
   "execution_count": null,
   "metadata": {},
   "outputs": [],
   "source": [
    "params_test3={'min_child_samples': [10,11,12,13,14],'min_child_weight':[0.00001, 0.0001]} \n",
    "model_lgb = lgb.LGBMRegressor(objective='regression',num_leaves=56, learning_rate=0.05, n_estimators=77, \n",
    "                              max_depth=8,metric='rmse', bagging_fraction = 0.8,feature_fraction = 0.8) \n",
    "gsearch3 = GridSearchCV(estimator=model_lgb, param_grid=params_test3, scoring='neg_mean_squared_error',\n",
    "                        cv=5, verbose=1, n_jobs=4) \n",
    "gsearch3.fit(X, y) \n",
    "gsearch3.grid_scores_, gsearch3.best_params_, gsearch3.best_score_"
   ]
  },
  {
   "cell_type": "markdown",
   "metadata": {},
   "source": [
    "output"
   ]
  },
  {
   "cell_type": "code",
   "execution_count": 19,
   "metadata": {},
   "outputs": [],
   "source": [
    "submission = test[['User ID']].copy()\n",
    "submission.loc[:, 'Average Rating (2018)'] = new_sub['fin_pre']\n",
    "submission[\"Average Rating (2018)\"] = submission[\"Average Rating (2018)\"].apply(lambda x : \n",
    "                                                                                0.0 if x < 0 and x > 10 else x)\n",
    "submission[\"Average Rating (2018)\"] = submission[\"Average Rating (2018)\"].fillna(0.0)\n",
    "grouped_test = submission[['User ID', \"Average Rating (2018)\"]]\n",
    "grouped_test.to_csv('lgb.csv',index=False)"
   ]
  },
  {
   "cell_type": "code",
   "execution_count": null,
   "metadata": {},
   "outputs": [],
   "source": []
  }
 ],
 "metadata": {
  "kernelspec": {
   "display_name": "Python 3",
   "language": "python",
   "name": "python3"
  },
  "language_info": {
   "codemirror_mode": {
    "name": "ipython",
    "version": 3
   },
   "file_extension": ".py",
   "mimetype": "text/x-python",
   "name": "python",
   "nbconvert_exporter": "python",
   "pygments_lexer": "ipython3",
   "version": "3.6.6"
  }
 },
 "nbformat": 4,
 "nbformat_minor": 2
}
